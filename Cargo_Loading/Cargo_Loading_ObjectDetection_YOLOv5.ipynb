{
  "cells": [
    {
      "attachments": {},
      "cell_type": "markdown",
      "metadata": {},
      "source": [
        "# Cargo Loading Object Detection"
      ]
    },
    {
      "attachments": {},
      "cell_type": "markdown",
      "metadata": {
        "id": "BZpVDGUrzFhy"
      },
      "source": [
        "## 1. Setup"
      ]
    },
    {
      "cell_type": "code",
      "execution_count": null,
      "metadata": {
        "colab": {
          "base_uri": "https://localhost:8080/"
        },
        "id": "cRYoLFLw3mUn",
        "outputId": "ec9bc284-2a6b-4c57-c8e5-8cfd60a619a4"
      },
      "outputs": [
        {
          "name": "stdout",
          "output_type": "stream",
          "text": [
            "Cloning into 'yolov5'...\n",
            "remote: Enumerating objects: 14759, done.\u001b[K\n",
            "remote: Counting objects: 100% (82/82), done.\u001b[K\n",
            "remote: Compressing objects: 100% (42/42), done.\u001b[K\n",
            "remote: Total 14759 (delta 45), reused 74 (delta 40), pack-reused 14677\u001b[K\n",
            "Receiving objects: 100% (14759/14759), 13.52 MiB | 18.75 MiB/s, done.\n",
            "Resolving deltas: 100% (10189/10189), done.\n",
            "/content/yolov5\n",
            "\u001b[K     |████████████████████████████████| 1.6 MB 7.4 MB/s \n",
            "\u001b[K     |████████████████████████████████| 41 kB 207 kB/s \n",
            "\u001b[K     |████████████████████████████████| 138 kB 11.3 MB/s \n",
            "\u001b[K     |████████████████████████████████| 178 kB 61.9 MB/s \n",
            "\u001b[K     |████████████████████████████████| 54 kB 3.1 MB/s \n",
            "\u001b[K     |████████████████████████████████| 145 kB 61.6 MB/s \n",
            "\u001b[K     |████████████████████████████████| 67 kB 5.0 MB/s \n",
            "\u001b[K     |████████████████████████████████| 62 kB 1.6 MB/s \n",
            "\u001b[?25h  Building wheel for wget (setup.py) ... \u001b[?25l\u001b[?25hdone\n",
            "Setup complete. Using torch 1.12.1+cu113 (Tesla T4)\n"
          ]
        }
      ],
      "source": [
        "#clone YOLOv5 and \n",
        "!git clone https://github.com/ultralytics/yolov5  # clone repo\n",
        "%cd yolov5\n",
        "%pip install -qr requirements.txt # install dependencies\n",
        "%pip install -q roboflow\n",
        "\n",
        "import torch\n",
        "import os\n",
        "from IPython.display import Image, clear_output  # to display images\n",
        "\n",
        "print(f\"Setup complete. Using torch {torch.__version__} ({torch.cuda.get_device_properties(0).name if torch.cuda.is_available() else 'CPU'})\")"
      ]
    },
    {
      "attachments": {},
      "cell_type": "markdown",
      "metadata": {
        "id": "0DG3Yo2DSorD"
      },
      "source": [
        "## 2. Load dataset"
      ]
    },
    {
      "cell_type": "code",
      "execution_count": null,
      "metadata": {
        "id": "67ZJWNEqR86O"
      },
      "outputs": [],
      "source": [
        "# set up environment\n",
        "os.environ[\"DATASET_DIRECTORY\"] = \"/content/datasets\""
      ]
    },
    {
      "cell_type": "code",
      "execution_count": null,
      "metadata": {
        "colab": {
          "base_uri": "https://localhost:8080/"
        },
        "id": "ACXMjDCgSBZv",
        "outputId": "d8845305-11a8-4592-95a1-fe4310cf5614"
      },
      "outputs": [
        {
          "name": "stdout",
          "output_type": "stream",
          "text": [
            "loading Roboflow workspace...\n",
            "loading Roboflow project...\n",
            "Downloading Dataset Version Zip in /content/datasets/Cargo-Trailer-Classification-3 to yolov5pytorch: 100% [43410539 / 43410539] bytes\n"
          ]
        },
        {
          "name": "stderr",
          "output_type": "stream",
          "text": [
            "Extracting Dataset Version Zip to /content/datasets/Cargo-Trailer-Classification-3 in yolov5pytorch:: 100%|██████████| 2092/2092 [00:01<00:00, 2002.61it/s]\n"
          ]
        }
      ],
      "source": [
        "# Export augmented datasets from Roboflow as format: YOLO v5 PyTorch\n",
        "from roboflow import Roboflow\n",
        "rf = Roboflow(api_key=\"\")\n",
        "project = rf.workspace(\"image-annotation-rzclb\").project(\"cargo-trailer-classification\")\n",
        "dataset = project.version(3).download(\"yolov5\")"
      ]
    },
    {
      "attachments": {},
      "cell_type": "markdown",
      "metadata": {
        "id": "GP_ptn4cSu2d"
      },
      "source": [
        "## 3. Train"
      ]
    },
    {
      "cell_type": "code",
      "execution_count": null,
      "metadata": {
        "colab": {
          "base_uri": "https://localhost:8080/"
        },
        "id": "iR5Pn3vtSv8F",
        "outputId": "45a6f005-88f2-465a-e931-8c3904d1ee4d"
      },
      "outputs": [
        {
          "name": "stdout",
          "output_type": "stream",
          "text": [
            "\u001b[34m\u001b[1mtrain: \u001b[0mweights=yolov5s.pt, cfg=, data=/content/datasets/Cargo-Trailer-Classification-3/data.yaml, hyp=data/hyps/hyp.scratch-low.yaml, epochs=150, batch_size=16, imgsz=416, rect=False, resume=False, nosave=False, noval=False, noautoanchor=False, noplots=False, evolve=None, bucket=, cache=ram, image_weights=False, device=, multi_scale=False, single_cls=False, optimizer=SGD, sync_bn=False, workers=8, project=runs/train, name=exp, exist_ok=False, quad=False, cos_lr=False, label_smoothing=0.0, patience=100, freeze=[0], save_period=-1, seed=0, local_rank=-1, entity=None, upload_dataset=False, bbox_interval=-1, artifact_alias=latest\n",
            "\u001b[34m\u001b[1mgithub: \u001b[0mup to date with https://github.com/ultralytics/yolov5 ✅\n",
            "YOLOv5 🚀 v6.2-235-g75728bb Python-3.7.15 torch-1.12.1+cu113 CUDA:0 (Tesla T4, 15110MiB)\n",
            "\n",
            "\u001b[34m\u001b[1mhyperparameters: \u001b[0mlr0=0.01, lrf=0.01, momentum=0.937, weight_decay=0.0005, warmup_epochs=3.0, warmup_momentum=0.8, warmup_bias_lr=0.1, box=0.05, cls=0.5, cls_pw=1.0, obj=1.0, obj_pw=1.0, iou_t=0.2, anchor_t=4.0, fl_gamma=0.0, hsv_h=0.015, hsv_s=0.7, hsv_v=0.4, degrees=0.0, translate=0.1, scale=0.5, shear=0.0, perspective=0.0, flipud=0.0, fliplr=0.5, mosaic=1.0, mixup=0.0, copy_paste=0.0\n",
            "\u001b[34m\u001b[1mClearML: \u001b[0mrun 'pip install clearml' to automatically track, visualize and remotely train YOLOv5 🚀 in ClearML\n",
            "\u001b[34m\u001b[1mComet: \u001b[0mrun 'pip install comet_ml' to automatically track and visualize YOLOv5 🚀 runs in Comet\n",
            "\u001b[34m\u001b[1mTensorBoard: \u001b[0mStart with 'tensorboard --logdir runs/train', view at http://localhost:6006/\n",
            "Downloading https://ultralytics.com/assets/Arial.ttf to /root/.config/Ultralytics/Arial.ttf...\n",
            "100% 755k/755k [00:00<00:00, 23.5MB/s]\n",
            "Downloading https://github.com/ultralytics/yolov5/releases/download/v6.2/yolov5s.pt to yolov5s.pt...\n",
            "100% 14.1M/14.1M [00:01<00:00, 11.1MB/s]\n",
            "\n",
            "Overriding model.yaml nc=80 with nc=11\n",
            "\n",
            "                 from  n    params  module                                  arguments                     \n",
            "  0                -1  1      3520  models.common.Conv                      [3, 32, 6, 2, 2]              \n",
            "  1                -1  1     18560  models.common.Conv                      [32, 64, 3, 2]                \n",
            "  2                -1  1     18816  models.common.C3                        [64, 64, 1]                   \n",
            "  3                -1  1     73984  models.common.Conv                      [64, 128, 3, 2]               \n",
            "  4                -1  2    115712  models.common.C3                        [128, 128, 2]                 \n",
            "  5                -1  1    295424  models.common.Conv                      [128, 256, 3, 2]              \n",
            "  6                -1  3    625152  models.common.C3                        [256, 256, 3]                 \n",
            "  7                -1  1   1180672  models.common.Conv                      [256, 512, 3, 2]              \n",
            "  8                -1  1   1182720  models.common.C3                        [512, 512, 1]                 \n",
            "  9                -1  1    656896  models.common.SPPF                      [512, 512, 5]                 \n",
            " 10                -1  1    131584  models.common.Conv                      [512, 256, 1, 1]              \n",
            " 11                -1  1         0  torch.nn.modules.upsampling.Upsample    [None, 2, 'nearest']          \n",
            " 12           [-1, 6]  1         0  models.common.Concat                    [1]                           \n",
            " 13                -1  1    361984  models.common.C3                        [512, 256, 1, False]          \n",
            " 14                -1  1     33024  models.common.Conv                      [256, 128, 1, 1]              \n",
            " 15                -1  1         0  torch.nn.modules.upsampling.Upsample    [None, 2, 'nearest']          \n",
            " 16           [-1, 4]  1         0  models.common.Concat                    [1]                           \n",
            " 17                -1  1     90880  models.common.C3                        [256, 128, 1, False]          \n",
            " 18                -1  1    147712  models.common.Conv                      [128, 128, 3, 2]              \n",
            " 19          [-1, 14]  1         0  models.common.Concat                    [1]                           \n",
            " 20                -1  1    296448  models.common.C3                        [256, 256, 1, False]          \n",
            " 21                -1  1    590336  models.common.Conv                      [256, 256, 3, 2]              \n",
            " 22          [-1, 10]  1         0  models.common.Concat                    [1]                           \n",
            " 23                -1  1   1182720  models.common.C3                        [512, 512, 1, False]          \n",
            " 24      [17, 20, 23]  1     43152  models.yolo.Detect                      [11, [[10, 13, 16, 30, 33, 23], [30, 61, 62, 45, 59, 119], [116, 90, 156, 198, 373, 326]], [128, 256, 512]]\n",
            "Model summary: 214 layers, 7049296 parameters, 7049296 gradients, 16.0 GFLOPs\n",
            "\n",
            "Transferred 343/349 items from yolov5s.pt\n",
            "\u001b[34m\u001b[1mAMP: \u001b[0mchecks passed ✅\n",
            "\u001b[34m\u001b[1moptimizer:\u001b[0m SGD(lr=0.01) with parameter groups 57 weight(decay=0.0), 60 weight(decay=0.0005), 60 bias\n",
            "\u001b[34m\u001b[1malbumentations: \u001b[0mBlur(p=0.01, blur_limit=(3, 7)), MedianBlur(p=0.01, blur_limit=(3, 7)), ToGray(p=0.01), CLAHE(p=0.01, clip_limit=(1, 4.0), tile_grid_size=(8, 8))\n",
            "\u001b[34m\u001b[1mtrain: \u001b[0mScanning '/content/datasets/Cargo-Trailer-Classification-3/train/labels' images and labels...722 found, 0 missing, 0 empty, 0 corrupt: 100% 722/722 [00:00<00:00, 2139.75it/s]\n",
            "\u001b[34m\u001b[1mtrain: \u001b[0mNew cache created: /content/datasets/Cargo-Trailer-Classification-3/train/labels.cache\n",
            "\u001b[34m\u001b[1mtrain: \u001b[0mCaching images (0.3GB ram): 100% 722/722 [00:03<00:00, 193.15it/s]\n",
            "\u001b[34m\u001b[1mval: \u001b[0mScanning '/content/datasets/Cargo-Trailer-Classification-3/valid/labels' images and labels...202 found, 0 missing, 0 empty, 0 corrupt: 100% 202/202 [00:00<00:00, 968.41it/s] \n",
            "\u001b[34m\u001b[1mval: \u001b[0mNew cache created: /content/datasets/Cargo-Trailer-Classification-3/valid/labels.cache\n",
            "\u001b[34m\u001b[1mval: \u001b[0mCaching images (0.1GB ram): 100% 202/202 [00:01<00:00, 117.68it/s]\n",
            "\n",
            "\u001b[34m\u001b[1mAutoAnchor: \u001b[0m2.89 anchors/target, 1.000 Best Possible Recall (BPR). Current anchors are a good fit to dataset ✅\n",
            "Plotting labels to runs/train/exp/labels.jpg... \n",
            "Image sizes 416 train, 416 val\n",
            "Using 2 dataloader workers\n",
            "Logging results to \u001b[1mruns/train/exp\u001b[0m\n",
            "Starting training for 150 epochs...\n",
            "\n",
            "      Epoch    GPU_mem   box_loss   obj_loss   cls_loss  Instances       Size\n",
            "      0/149      1.72G    0.08464    0.02351    0.06136          5        416: 100% 46/46 [00:10<00:00,  4.49it/s]\n",
            "                 Class     Images  Instances          P          R      mAP50   mAP50-95: 100% 7/7 [00:02<00:00,  2.50it/s]\n",
            "                   all        202        202     0.0033      0.834     0.0315     0.0131\n",
            "\n",
            "      Epoch    GPU_mem   box_loss   obj_loss   cls_loss  Instances       Size\n",
            "      1/149      2.08G    0.05476    0.02276     0.0528          6        416: 100% 46/46 [00:06<00:00,  6.82it/s]\n",
            "                 Class     Images  Instances          P          R      mAP50   mAP50-95: 100% 7/7 [00:01<00:00,  5.39it/s]\n",
            "                   all        202        202      0.412      0.285      0.149     0.0884\n",
            "\n",
            "      Epoch    GPU_mem   box_loss   obj_loss   cls_loss  Instances       Size\n",
            "      2/149      2.08G    0.05301    0.01906    0.04927          3        416: 100% 46/46 [00:06<00:00,  6.98it/s]\n",
            "                 Class     Images  Instances          P          R      mAP50   mAP50-95: 100% 7/7 [00:01<00:00,  5.63it/s]\n",
            "                   all        202        202      0.423      0.289      0.203      0.123\n",
            "\n",
            "      Epoch    GPU_mem   box_loss   obj_loss   cls_loss  Instances       Size\n",
            "      3/149      2.08G    0.04574    0.01667    0.04301          4        416: 100% 46/46 [00:06<00:00,  7.07it/s]\n",
            "                 Class     Images  Instances          P          R      mAP50   mAP50-95: 100% 7/7 [00:01<00:00,  5.62it/s]\n",
            "                   all        202        202      0.603      0.373      0.276      0.181\n",
            "\n",
            "      Epoch    GPU_mem   box_loss   obj_loss   cls_loss  Instances       Size\n",
            "      4/149      2.08G    0.04484    0.01554    0.04276          5        416: 100% 46/46 [00:06<00:00,  7.07it/s]\n",
            "                 Class     Images  Instances          P          R      mAP50   mAP50-95: 100% 7/7 [00:01<00:00,  5.97it/s]\n",
            "                   all        202        202      0.655      0.407       0.31      0.214\n",
            "\n",
            "      Epoch    GPU_mem   box_loss   obj_loss   cls_loss  Instances       Size\n",
            "      5/149      2.09G     0.0411    0.01465    0.04275          5        416: 100% 46/46 [00:06<00:00,  7.10it/s]\n",
            "                 Class     Images  Instances          P          R      mAP50   mAP50-95: 100% 7/7 [00:01<00:00,  5.78it/s]\n",
            "                   all        202        202      0.604      0.351      0.295      0.202\n",
            "\n",
            "      Epoch    GPU_mem   box_loss   obj_loss   cls_loss  Instances       Size\n",
            "      6/149      2.09G    0.03799    0.01394    0.03648          4        416: 100% 46/46 [00:06<00:00,  7.07it/s]\n",
            "                 Class     Images  Instances          P          R      mAP50   mAP50-95: 100% 7/7 [00:01<00:00,  5.98it/s]\n",
            "                   all        202        202      0.617      0.417      0.325      0.233\n",
            "\n",
            "      Epoch    GPU_mem   box_loss   obj_loss   cls_loss  Instances       Size\n",
            "      7/149      2.09G    0.03618    0.01382    0.03952          4        416: 100% 46/46 [00:06<00:00,  7.10it/s]\n",
            "                 Class     Images  Instances          P          R      mAP50   mAP50-95: 100% 7/7 [00:01<00:00,  5.81it/s]\n",
            "                   all        202        202      0.732      0.446      0.419      0.321\n",
            "\n",
            "      Epoch    GPU_mem   box_loss   obj_loss   cls_loss  Instances       Size\n",
            "      8/149      2.09G    0.03569    0.01266    0.03637          5        416: 100% 46/46 [00:06<00:00,  7.04it/s]\n",
            "                 Class     Images  Instances          P          R      mAP50   mAP50-95: 100% 7/7 [00:01<00:00,  5.93it/s]\n",
            "                   all        202        202      0.753      0.452      0.444       0.34\n",
            "\n",
            "      Epoch    GPU_mem   box_loss   obj_loss   cls_loss  Instances       Size\n",
            "      9/149      2.09G     0.0351    0.01298    0.03659          3        416: 100% 46/46 [00:06<00:00,  7.19it/s]\n",
            "                 Class     Images  Instances          P          R      mAP50   mAP50-95: 100% 7/7 [00:01<00:00,  6.00it/s]\n",
            "                   all        202        202      0.681      0.383      0.382      0.289\n",
            "\n",
            "      Epoch    GPU_mem   box_loss   obj_loss   cls_loss  Instances       Size\n",
            "     10/149      2.09G    0.03223    0.01261    0.03643          6        416: 100% 46/46 [00:06<00:00,  7.06it/s]\n",
            "                 Class     Images  Instances          P          R      mAP50   mAP50-95: 100% 7/7 [00:01<00:00,  6.21it/s]\n",
            "                   all        202        202      0.737      0.391      0.364      0.263\n",
            "\n",
            "      Epoch    GPU_mem   box_loss   obj_loss   cls_loss  Instances       Size\n",
            "     11/149      2.09G    0.03162    0.01318    0.03469          6        416: 100% 46/46 [00:06<00:00,  7.12it/s]\n",
            "                 Class     Images  Instances          P          R      mAP50   mAP50-95: 100% 7/7 [00:01<00:00,  6.09it/s]\n",
            "                   all        202        202      0.755      0.507      0.521      0.369\n",
            "\n",
            "      Epoch    GPU_mem   box_loss   obj_loss   cls_loss  Instances       Size\n",
            "     12/149      2.09G    0.03102    0.01245    0.03216          6        416: 100% 46/46 [00:06<00:00,  7.10it/s]\n",
            "                 Class     Images  Instances          P          R      mAP50   mAP50-95: 100% 7/7 [00:01<00:00,  5.94it/s]\n",
            "                   all        202        202      0.814      0.496      0.541      0.421\n",
            "\n",
            "      Epoch    GPU_mem   box_loss   obj_loss   cls_loss  Instances       Size\n",
            "     13/149      2.09G    0.03188    0.01276    0.03165          3        416: 100% 46/46 [00:08<00:00,  5.71it/s]\n",
            "                 Class     Images  Instances          P          R      mAP50   mAP50-95: 100% 7/7 [00:01<00:00,  5.42it/s]\n",
            "                   all        202        202      0.696      0.556      0.548      0.409\n",
            "\n",
            "      Epoch    GPU_mem   box_loss   obj_loss   cls_loss  Instances       Size\n",
            "     14/149      2.09G    0.03157    0.01274    0.03172          4        416: 100% 46/46 [00:06<00:00,  7.02it/s]\n",
            "                 Class     Images  Instances          P          R      mAP50   mAP50-95: 100% 7/7 [00:01<00:00,  6.09it/s]\n",
            "                   all        202        202      0.727      0.531      0.519      0.376\n",
            "\n",
            "      Epoch    GPU_mem   box_loss   obj_loss   cls_loss  Instances       Size\n",
            "     15/149      2.09G    0.03014    0.01248    0.03248          4        416: 100% 46/46 [00:06<00:00,  7.07it/s]\n",
            "                 Class     Images  Instances          P          R      mAP50   mAP50-95: 100% 7/7 [00:01<00:00,  5.95it/s]\n",
            "                   all        202        202      0.823      0.587      0.607       0.49\n",
            "\n",
            "      Epoch    GPU_mem   box_loss   obj_loss   cls_loss  Instances       Size\n",
            "     16/149      2.09G    0.02938     0.0118    0.03091          3        416: 100% 46/46 [00:06<00:00,  7.04it/s]\n",
            "                 Class     Images  Instances          P          R      mAP50   mAP50-95: 100% 7/7 [00:01<00:00,  5.99it/s]\n",
            "                   all        202        202       0.81      0.587      0.608      0.495\n",
            "\n",
            "      Epoch    GPU_mem   box_loss   obj_loss   cls_loss  Instances       Size\n",
            "     17/149      2.09G    0.02856    0.01178    0.02881          4        416: 100% 46/46 [00:06<00:00,  6.99it/s]\n",
            "                 Class     Images  Instances          P          R      mAP50   mAP50-95: 100% 7/7 [00:01<00:00,  5.90it/s]\n",
            "                   all        202        202      0.831      0.569      0.608      0.482\n",
            "\n",
            "      Epoch    GPU_mem   box_loss   obj_loss   cls_loss  Instances       Size\n",
            "     18/149      2.09G    0.02806    0.01183    0.02715          6        416: 100% 46/46 [00:06<00:00,  6.98it/s]\n",
            "                 Class     Images  Instances          P          R      mAP50   mAP50-95: 100% 7/7 [00:01<00:00,  5.99it/s]\n",
            "                   all        202        202      0.826      0.568      0.591      0.487\n",
            "\n",
            "      Epoch    GPU_mem   box_loss   obj_loss   cls_loss  Instances       Size\n",
            "     19/149      2.09G    0.02796    0.01191    0.02501          2        416: 100% 46/46 [00:06<00:00,  7.08it/s]\n",
            "                 Class     Images  Instances          P          R      mAP50   mAP50-95: 100% 7/7 [00:01<00:00,  5.98it/s]\n",
            "                   all        202        202      0.694      0.591      0.574      0.451\n",
            "\n",
            "      Epoch    GPU_mem   box_loss   obj_loss   cls_loss  Instances       Size\n",
            "     20/149      2.09G     0.0285    0.01169    0.02744          6        416: 100% 46/46 [00:06<00:00,  7.15it/s]\n",
            "                 Class     Images  Instances          P          R      mAP50   mAP50-95: 100% 7/7 [00:01<00:00,  6.11it/s]\n",
            "                   all        202        202      0.732      0.626      0.616       0.48\n",
            "\n",
            "      Epoch    GPU_mem   box_loss   obj_loss   cls_loss  Instances       Size\n",
            "     21/149      2.09G    0.02931     0.0116    0.02844          3        416: 100% 46/46 [00:06<00:00,  7.00it/s]\n",
            "                 Class     Images  Instances          P          R      mAP50   mAP50-95: 100% 7/7 [00:01<00:00,  5.97it/s]\n",
            "                   all        202        202      0.882      0.566       0.63      0.514\n",
            "\n",
            "      Epoch    GPU_mem   box_loss   obj_loss   cls_loss  Instances       Size\n",
            "     22/149      2.09G    0.02566    0.01152    0.02537          5        416: 100% 46/46 [00:06<00:00,  7.02it/s]\n",
            "                 Class     Images  Instances          P          R      mAP50   mAP50-95: 100% 7/7 [00:01<00:00,  6.02it/s]\n",
            "                   all        202        202      0.905      0.601      0.688      0.583\n",
            "\n",
            "      Epoch    GPU_mem   box_loss   obj_loss   cls_loss  Instances       Size\n",
            "     23/149      2.09G    0.02743    0.01134    0.02661          8        416: 100% 46/46 [00:06<00:00,  7.07it/s]\n",
            "                 Class     Images  Instances          P          R      mAP50   mAP50-95: 100% 7/7 [00:01<00:00,  6.00it/s]\n",
            "                   all        202        202      0.909      0.572      0.647      0.534\n",
            "\n",
            "      Epoch    GPU_mem   box_loss   obj_loss   cls_loss  Instances       Size\n",
            "     24/149      2.09G    0.02693    0.01119    0.02725          6        416: 100% 46/46 [00:06<00:00,  7.07it/s]\n",
            "                 Class     Images  Instances          P          R      mAP50   mAP50-95: 100% 7/7 [00:01<00:00,  6.12it/s]\n",
            "                   all        202        202      0.918      0.609      0.664       0.56\n",
            "\n",
            "      Epoch    GPU_mem   box_loss   obj_loss   cls_loss  Instances       Size\n",
            "     25/149      2.09G    0.02608    0.01155    0.02697          3        416: 100% 46/46 [00:06<00:00,  7.03it/s]\n",
            "                 Class     Images  Instances          P          R      mAP50   mAP50-95: 100% 7/7 [00:01<00:00,  5.86it/s]\n",
            "                   all        202        202        0.7      0.746      0.667      0.562\n",
            "\n",
            "      Epoch    GPU_mem   box_loss   obj_loss   cls_loss  Instances       Size\n",
            "     26/149      2.09G    0.02531    0.01193    0.02815          6        416: 100% 46/46 [00:06<00:00,  6.97it/s]\n",
            "                 Class     Images  Instances          P          R      mAP50   mAP50-95: 100% 7/7 [00:01<00:00,  6.05it/s]\n",
            "                   all        202        202      0.654      0.735      0.675      0.536\n",
            "\n",
            "      Epoch    GPU_mem   box_loss   obj_loss   cls_loss  Instances       Size\n",
            "     27/149      2.09G    0.02593    0.01126    0.02608          4        416: 100% 46/46 [00:06<00:00,  7.08it/s]\n",
            "                 Class     Images  Instances          P          R      mAP50   mAP50-95: 100% 7/7 [00:01<00:00,  6.02it/s]\n",
            "                   all        202        202      0.676       0.72      0.667      0.571\n",
            "\n",
            "      Epoch    GPU_mem   box_loss   obj_loss   cls_loss  Instances       Size\n",
            "     28/149      2.09G    0.02631      0.011    0.02588          4        416: 100% 46/46 [00:06<00:00,  7.01it/s]\n",
            "                 Class     Images  Instances          P          R      mAP50   mAP50-95: 100% 7/7 [00:01<00:00,  6.01it/s]\n",
            "                   all        202        202      0.668      0.727      0.669       0.52\n",
            "\n",
            "      Epoch    GPU_mem   box_loss   obj_loss   cls_loss  Instances       Size\n",
            "     29/149      2.09G    0.02325    0.01065    0.02436          3        416: 100% 46/46 [00:06<00:00,  7.05it/s]\n",
            "                 Class     Images  Instances          P          R      mAP50   mAP50-95: 100% 7/7 [00:01<00:00,  6.18it/s]\n",
            "                   all        202        202      0.695      0.809       0.74      0.626\n",
            "\n",
            "      Epoch    GPU_mem   box_loss   obj_loss   cls_loss  Instances       Size\n",
            "     30/149      2.09G    0.02561    0.01067    0.02481          5        416: 100% 46/46 [00:06<00:00,  7.03it/s]\n",
            "                 Class     Images  Instances          P          R      mAP50   mAP50-95: 100% 7/7 [00:01<00:00,  6.04it/s]\n",
            "                   all        202        202      0.684      0.728      0.671      0.559\n",
            "\n",
            "      Epoch    GPU_mem   box_loss   obj_loss   cls_loss  Instances       Size\n",
            "     31/149      2.09G    0.02467      0.011    0.02169          8        416: 100% 46/46 [00:06<00:00,  7.10it/s]\n",
            "                 Class     Images  Instances          P          R      mAP50   mAP50-95: 100% 7/7 [00:01<00:00,  6.02it/s]\n",
            "                   all        202        202      0.824      0.685      0.678      0.577\n",
            "\n",
            "      Epoch    GPU_mem   box_loss   obj_loss   cls_loss  Instances       Size\n",
            "     32/149      2.09G    0.02426    0.01051    0.02376          6        416: 100% 46/46 [00:06<00:00,  6.93it/s]\n",
            "                 Class     Images  Instances          P          R      mAP50   mAP50-95: 100% 7/7 [00:01<00:00,  5.85it/s]\n",
            "                   all        202        202      0.717      0.783      0.735      0.607\n",
            "\n",
            "      Epoch    GPU_mem   box_loss   obj_loss   cls_loss  Instances       Size\n",
            "     33/149      2.09G    0.02503    0.01096    0.02536          7        416: 100% 46/46 [00:06<00:00,  7.10it/s]\n",
            "                 Class     Images  Instances          P          R      mAP50   mAP50-95: 100% 7/7 [00:01<00:00,  6.04it/s]\n",
            "                   all        202        202      0.716      0.783      0.718      0.615\n",
            "\n",
            "      Epoch    GPU_mem   box_loss   obj_loss   cls_loss  Instances       Size\n",
            "     34/149      2.09G    0.02381    0.01053    0.02284          4        416: 100% 46/46 [00:06<00:00,  7.10it/s]\n",
            "                 Class     Images  Instances          P          R      mAP50   mAP50-95: 100% 7/7 [00:01<00:00,  5.99it/s]\n",
            "                   all        202        202      0.805      0.746      0.734      0.613\n",
            "\n",
            "      Epoch    GPU_mem   box_loss   obj_loss   cls_loss  Instances       Size\n",
            "     35/149      2.09G    0.02224    0.01097    0.02174          4        416: 100% 46/46 [00:06<00:00,  7.10it/s]\n",
            "                 Class     Images  Instances          P          R      mAP50   mAP50-95: 100% 7/7 [00:01<00:00,  5.93it/s]\n",
            "                   all        202        202      0.673      0.659      0.669      0.548\n",
            "\n",
            "      Epoch    GPU_mem   box_loss   obj_loss   cls_loss  Instances       Size\n",
            "     36/149      2.09G    0.02468    0.01059    0.02405          4        416: 100% 46/46 [00:06<00:00,  7.04it/s]\n",
            "                 Class     Images  Instances          P          R      mAP50   mAP50-95: 100% 7/7 [00:01<00:00,  6.04it/s]\n",
            "                   all        202        202      0.741      0.791      0.738      0.643\n",
            "\n",
            "      Epoch    GPU_mem   box_loss   obj_loss   cls_loss  Instances       Size\n",
            "     37/149      2.09G    0.02401    0.01114    0.02529          4        416: 100% 46/46 [00:06<00:00,  7.04it/s]\n",
            "                 Class     Images  Instances          P          R      mAP50   mAP50-95: 100% 7/7 [00:01<00:00,  6.08it/s]\n",
            "                   all        202        202      0.711       0.78      0.729      0.617\n",
            "\n",
            "      Epoch    GPU_mem   box_loss   obj_loss   cls_loss  Instances       Size\n",
            "     38/149      2.09G    0.02302      0.011    0.02229          5        416: 100% 46/46 [00:06<00:00,  7.04it/s]\n",
            "                 Class     Images  Instances          P          R      mAP50   mAP50-95: 100% 7/7 [00:01<00:00,  6.07it/s]\n",
            "                   all        202        202      0.894      0.709      0.738      0.601\n",
            "\n",
            "      Epoch    GPU_mem   box_loss   obj_loss   cls_loss  Instances       Size\n",
            "     39/149      2.09G    0.02295    0.01069    0.02476          4        416: 100% 46/46 [00:06<00:00,  7.11it/s]\n",
            "                 Class     Images  Instances          P          R      mAP50   mAP50-95: 100% 7/7 [00:01<00:00,  6.15it/s]\n",
            "                   all        202        202      0.629      0.681      0.661      0.543\n",
            "\n",
            "      Epoch    GPU_mem   box_loss   obj_loss   cls_loss  Instances       Size\n",
            "     40/149      2.09G    0.02462     0.0106    0.02574          4        416: 100% 46/46 [00:06<00:00,  6.91it/s]\n",
            "                 Class     Images  Instances          P          R      mAP50   mAP50-95: 100% 7/7 [00:01<00:00,  6.16it/s]\n",
            "                   all        202        202      0.749      0.724      0.699      0.552\n",
            "\n",
            "      Epoch    GPU_mem   box_loss   obj_loss   cls_loss  Instances       Size\n",
            "     41/149      2.09G     0.0239    0.01047    0.02248          4        416: 100% 46/46 [00:06<00:00,  7.01it/s]\n",
            "                 Class     Images  Instances          P          R      mAP50   mAP50-95: 100% 7/7 [00:01<00:00,  5.94it/s]\n",
            "                   all        202        202      0.764      0.723      0.753      0.592\n",
            "\n",
            "      Epoch    GPU_mem   box_loss   obj_loss   cls_loss  Instances       Size\n",
            "     42/149      2.09G     0.0241    0.01066    0.02374          3        416: 100% 46/46 [00:06<00:00,  7.12it/s]\n",
            "                 Class     Images  Instances          P          R      mAP50   mAP50-95: 100% 7/7 [00:01<00:00,  6.04it/s]\n",
            "                   all        202        202      0.788      0.806      0.794      0.659\n",
            "\n",
            "      Epoch    GPU_mem   box_loss   obj_loss   cls_loss  Instances       Size\n",
            "     43/149      2.09G    0.02255    0.01035    0.02314          6        416: 100% 46/46 [00:07<00:00,  6.15it/s]\n",
            "                 Class     Images  Instances          P          R      mAP50   mAP50-95: 100% 7/7 [00:01<00:00,  4.47it/s]\n",
            "                   all        202        202      0.788      0.808      0.805       0.68\n",
            "\n",
            "      Epoch    GPU_mem   box_loss   obj_loss   cls_loss  Instances       Size\n",
            "     44/149      2.09G    0.02353   0.009777    0.02048         39        416:  15% 7/46 [00:01<00:05,  6.62it/s]"
          ]
        }
      ],
      "source": [
        "!python train.py --img 416 --batch 16 --epochs 150 --data {dataset.location}/data.yaml --weights yolov5s.pt --cache"
      ]
    },
    {
      "attachments": {},
      "cell_type": "markdown",
      "metadata": {
        "id": "LdaiclV8YD3w"
      },
      "source": [
        "## 4. Evaluate"
      ]
    },
    {
      "cell_type": "code",
      "execution_count": null,
      "metadata": {
        "id": "QyIS8ATTYE2t"
      },
      "outputs": [],
      "source": [
        "# Start tensorboard\n",
        "# Launch after you have started training\n",
        "# logs save in the folder \"runs\"\n",
        "%load_ext tensorboard\n",
        "%tensorboard --logdir runs"
      ]
    },
    {
      "attachments": {},
      "cell_type": "markdown",
      "metadata": {
        "id": "aKX-3cb7YMbN"
      },
      "source": [
        "## 5. Run Inference with Trained Weights"
      ]
    },
    {
      "cell_type": "code",
      "execution_count": null,
      "metadata": {
        "id": "na9CynHAYLQf"
      },
      "outputs": [],
      "source": [
        "!python detect.py --weights runs/train/exp/weights/best.pt --img 416 --conf 0.1 --source {dataset.location}/test/images"
      ]
    },
    {
      "cell_type": "code",
      "execution_count": null,
      "metadata": {
        "id": "UdcdDec-YYHb"
      },
      "outputs": [],
      "source": [
        "#display inference on ALL test images\n",
        "\n",
        "import glob\n",
        "from IPython.display import Image, display\n",
        "\n",
        "for imageName in glob.glob('/content/yolov5/runs/detect/exp/*.jpg'): #assuming JPG\n",
        "    display(Image(filename=imageName))\n",
        "    print(\"\\n\")"
      ]
    },
    {
      "attachments": {},
      "cell_type": "markdown",
      "metadata": {
        "id": "0TpvT7cHYccZ"
      },
      "source": [
        "## 6. Export"
      ]
    },
    {
      "cell_type": "code",
      "execution_count": null,
      "metadata": {
        "id": "k5nd-AxJYa80"
      },
      "outputs": [],
      "source": [
        "#export your model's weights for future use\n",
        "from google.colab import files\n",
        "files.download('./runs/train/exp/weights/best.pt')"
      ]
    }
  ],
  "metadata": {
    "accelerator": "GPU",
    "colab": {
      "collapsed_sections": [],
      "provenance": []
    },
    "gpuClass": "standard",
    "kernelspec": {
      "display_name": "base",
      "language": "python",
      "name": "python3"
    },
    "language_info": {
      "name": "python",
      "version": "3.9.12"
    },
    "vscode": {
      "interpreter": {
        "hash": "20a9e06a1eee47c4abbed4ec8225ad91d78d9800d202b71b6b0a6e47016c6abd"
      }
    }
  },
  "nbformat": 4,
  "nbformat_minor": 0
}
