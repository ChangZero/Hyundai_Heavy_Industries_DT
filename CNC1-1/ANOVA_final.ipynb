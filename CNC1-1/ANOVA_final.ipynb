{
 "cells": [
  {
   "attachments": {},
   "cell_type": "markdown",
   "id": "5d768f58",
   "metadata": {},
   "source": [
    "# ANOVA"
   ]
  },
  {
   "attachments": {},
   "cell_type": "markdown",
   "id": "4d9b62a1-dff6-49ca-844c-47c517ab8c74",
   "metadata": {},
   "source": [
    "## 1. 데이터 불러오기"
   ]
  },
  {
   "cell_type": "code",
   "execution_count": 2,
   "id": "14bf01b0-5e7e-4481-aab1-989a2262835b",
   "metadata": {},
   "outputs": [],
   "source": [
    "import pandas as pd\n",
    "import numpy as np"
   ]
  },
  {
   "cell_type": "code",
   "execution_count": 3,
   "id": "01cb57d9-e71e-42df-955e-631465bfc51b",
   "metadata": {},
   "outputs": [
    {
     "name": "stdout",
     "output_type": "stream",
     "text": [
      "<class 'pandas.core.frame.DataFrame'>\n",
      "RangeIndex: 121754 entries, 0 to 121753\n",
      "Data columns (total 10 columns):\n",
      " #   Column  Non-Null Count   Dtype  \n",
      "---  ------  --------------   -----  \n",
      " 0   X1      121754 non-null  int64  \n",
      " 1   X2      121754 non-null  float64\n",
      " 2   X3      121754 non-null  float64\n",
      " 3   X4      121754 non-null  float64\n",
      " 4   X5      121754 non-null  object \n",
      " 5   X6      121754 non-null  int64  \n",
      " 6   X7      121754 non-null  int64  \n",
      " 7   X8      121754 non-null  object \n",
      " 8   Y1      121754 non-null  int64  \n",
      " 9   Y2      121754 non-null  int64  \n",
      "dtypes: float64(3), int64(5), object(2)\n",
      "memory usage: 9.3+ MB\n"
     ]
    }
   ],
   "source": [
    "df_train = pd.read_csv('data/train.csv', sep=',')\n",
    "df_train.info()"
   ]
  },
  {
   "attachments": {},
   "cell_type": "markdown",
   "id": "abe7c6e1",
   "metadata": {},
   "source": [
    "## 2. 단위 일치"
   ]
  },
  {
   "cell_type": "code",
   "execution_count": 4,
   "id": "71ae04f1-9dab-4d69-a4a3-a1ea8e0fc920",
   "metadata": {},
   "outputs": [
    {
     "data": {
      "text/html": [
       "<div>\n",
       "<style scoped>\n",
       "    .dataframe tbody tr th:only-of-type {\n",
       "        vertical-align: middle;\n",
       "    }\n",
       "\n",
       "    .dataframe tbody tr th {\n",
       "        vertical-align: top;\n",
       "    }\n",
       "\n",
       "    .dataframe thead th {\n",
       "        text-align: right;\n",
       "    }\n",
       "</style>\n",
       "<table border=\"1\" class=\"dataframe\">\n",
       "  <thead>\n",
       "    <tr style=\"text-align: right;\">\n",
       "      <th></th>\n",
       "      <th>X1</th>\n",
       "      <th>X2</th>\n",
       "      <th>X3</th>\n",
       "      <th>X4</th>\n",
       "      <th>X5</th>\n",
       "      <th>X6</th>\n",
       "      <th>X7</th>\n",
       "      <th>X8</th>\n",
       "      <th>Y1</th>\n",
       "      <th>Y2</th>\n",
       "      <th>mk</th>\n",
       "    </tr>\n",
       "  </thead>\n",
       "  <tbody>\n",
       "    <tr>\n",
       "      <th>0</th>\n",
       "      <td>134764</td>\n",
       "      <td>56.3</td>\n",
       "      <td>67.5</td>\n",
       "      <td>22.5</td>\n",
       "      <td>AH32</td>\n",
       "      <td>4</td>\n",
       "      <td>97</td>\n",
       "      <td>PL973</td>\n",
       "      <td>467</td>\n",
       "      <td>2241</td>\n",
       "      <td>8.294849</td>\n",
       "    </tr>\n",
       "    <tr>\n",
       "      <th>1</th>\n",
       "      <td>9854</td>\n",
       "      <td>115.0</td>\n",
       "      <td>67.0</td>\n",
       "      <td>13.0</td>\n",
       "      <td>AH32</td>\n",
       "      <td>2</td>\n",
       "      <td>27</td>\n",
       "      <td>PL271</td>\n",
       "      <td>1058</td>\n",
       "      <td>1163</td>\n",
       "      <td>9.200000</td>\n",
       "    </tr>\n",
       "    <tr>\n",
       "      <th>2</th>\n",
       "      <td>94365</td>\n",
       "      <td>59.2</td>\n",
       "      <td>44.6</td>\n",
       "      <td>18.0</td>\n",
       "      <td>AH32-TM</td>\n",
       "      <td>1</td>\n",
       "      <td>14</td>\n",
       "      <td>PL141</td>\n",
       "      <td>270</td>\n",
       "      <td>1094</td>\n",
       "      <td>4.560811</td>\n",
       "    </tr>\n",
       "    <tr>\n",
       "      <th>3</th>\n",
       "      <td>110641</td>\n",
       "      <td>52.1</td>\n",
       "      <td>97.4</td>\n",
       "      <td>15.0</td>\n",
       "      <td>A</td>\n",
       "      <td>17</td>\n",
       "      <td>24</td>\n",
       "      <td>PL242</td>\n",
       "      <td>391</td>\n",
       "      <td>2604</td>\n",
       "      <td>7.504798</td>\n",
       "    </tr>\n",
       "    <tr>\n",
       "      <th>4</th>\n",
       "      <td>100159</td>\n",
       "      <td>42.9</td>\n",
       "      <td>58.7</td>\n",
       "      <td>14.5</td>\n",
       "      <td>A</td>\n",
       "      <td>4</td>\n",
       "      <td>23</td>\n",
       "      <td>PL233</td>\n",
       "      <td>232</td>\n",
       "      <td>1564</td>\n",
       "      <td>5.407925</td>\n",
       "    </tr>\n",
       "  </tbody>\n",
       "</table>\n",
       "</div>"
      ],
      "text/plain": [
       "       X1     X2    X3    X4        X5  X6  X7     X8    Y1    Y2        mk\n",
       "0  134764   56.3  67.5  22.5  AH32       4  97  PL973   467  2241  8.294849\n",
       "1    9854  115.0  67.0  13.0  AH32       2  27  PL271  1058  1163  9.200000\n",
       "2   94365   59.2  44.6  18.0  AH32-TM    1  14  PL141   270  1094  4.560811\n",
       "3  110641   52.1  97.4  15.0  A         17  24  PL242   391  2604  7.504798\n",
       "4  100159   42.9  58.7  14.5  A          4  23  PL233   232  1564  5.407925"
      ]
     },
     "execution_count": 4,
     "metadata": {},
     "output_type": "execute_result"
    }
   ],
   "source": [
    "df_train['mk'] = df_train['Y1'] / df_train['X2']\n",
    "df_train.head()"
   ]
  },
  {
   "cell_type": "code",
   "execution_count": 5,
   "id": "016133a1-b8eb-4f93-beb0-5e338c179b69",
   "metadata": {},
   "outputs": [
    {
     "data": {
      "text/html": [
       "<div>\n",
       "<style scoped>\n",
       "    .dataframe tbody tr th:only-of-type {\n",
       "        vertical-align: middle;\n",
       "    }\n",
       "\n",
       "    .dataframe tbody tr th {\n",
       "        vertical-align: top;\n",
       "    }\n",
       "\n",
       "    .dataframe thead th {\n",
       "        text-align: right;\n",
       "    }\n",
       "</style>\n",
       "<table border=\"1\" class=\"dataframe\">\n",
       "  <thead>\n",
       "    <tr style=\"text-align: right;\">\n",
       "      <th></th>\n",
       "      <th>X1</th>\n",
       "      <th>X2</th>\n",
       "      <th>X3</th>\n",
       "      <th>X4</th>\n",
       "      <th>X5</th>\n",
       "      <th>X6</th>\n",
       "      <th>X7</th>\n",
       "      <th>X8</th>\n",
       "      <th>Y1</th>\n",
       "      <th>Y2</th>\n",
       "      <th>mk</th>\n",
       "      <th>ct</th>\n",
       "    </tr>\n",
       "  </thead>\n",
       "  <tbody>\n",
       "    <tr>\n",
       "      <th>0</th>\n",
       "      <td>134764</td>\n",
       "      <td>56.3</td>\n",
       "      <td>67.5</td>\n",
       "      <td>22.5</td>\n",
       "      <td>AH32</td>\n",
       "      <td>4</td>\n",
       "      <td>97</td>\n",
       "      <td>PL973</td>\n",
       "      <td>467</td>\n",
       "      <td>2241</td>\n",
       "      <td>8.294849</td>\n",
       "      <td>1.475556</td>\n",
       "    </tr>\n",
       "    <tr>\n",
       "      <th>1</th>\n",
       "      <td>9854</td>\n",
       "      <td>115.0</td>\n",
       "      <td>67.0</td>\n",
       "      <td>13.0</td>\n",
       "      <td>AH32</td>\n",
       "      <td>2</td>\n",
       "      <td>27</td>\n",
       "      <td>PL271</td>\n",
       "      <td>1058</td>\n",
       "      <td>1163</td>\n",
       "      <td>9.200000</td>\n",
       "      <td>1.335247</td>\n",
       "    </tr>\n",
       "    <tr>\n",
       "      <th>2</th>\n",
       "      <td>94365</td>\n",
       "      <td>59.2</td>\n",
       "      <td>44.6</td>\n",
       "      <td>18.0</td>\n",
       "      <td>AH32-TM</td>\n",
       "      <td>1</td>\n",
       "      <td>14</td>\n",
       "      <td>PL141</td>\n",
       "      <td>270</td>\n",
       "      <td>1094</td>\n",
       "      <td>4.560811</td>\n",
       "      <td>1.362730</td>\n",
       "    </tr>\n",
       "    <tr>\n",
       "      <th>3</th>\n",
       "      <td>110641</td>\n",
       "      <td>52.1</td>\n",
       "      <td>97.4</td>\n",
       "      <td>15.0</td>\n",
       "      <td>A</td>\n",
       "      <td>17</td>\n",
       "      <td>24</td>\n",
       "      <td>PL242</td>\n",
       "      <td>391</td>\n",
       "      <td>2604</td>\n",
       "      <td>7.504798</td>\n",
       "      <td>1.782341</td>\n",
       "    </tr>\n",
       "    <tr>\n",
       "      <th>4</th>\n",
       "      <td>100159</td>\n",
       "      <td>42.9</td>\n",
       "      <td>58.7</td>\n",
       "      <td>14.5</td>\n",
       "      <td>A</td>\n",
       "      <td>4</td>\n",
       "      <td>23</td>\n",
       "      <td>PL233</td>\n",
       "      <td>232</td>\n",
       "      <td>1564</td>\n",
       "      <td>5.407925</td>\n",
       "      <td>1.837514</td>\n",
       "    </tr>\n",
       "  </tbody>\n",
       "</table>\n",
       "</div>"
      ],
      "text/plain": [
       "       X1     X2    X3    X4        X5  X6  X7     X8    Y1    Y2        mk  \\\n",
       "0  134764   56.3  67.5  22.5  AH32       4  97  PL973   467  2241  8.294849   \n",
       "1    9854  115.0  67.0  13.0  AH32       2  27  PL271  1058  1163  9.200000   \n",
       "2   94365   59.2  44.6  18.0  AH32-TM    1  14  PL141   270  1094  4.560811   \n",
       "3  110641   52.1  97.4  15.0  A         17  24  PL242   391  2604  7.504798   \n",
       "4  100159   42.9  58.7  14.5  A          4  23  PL233   232  1564  5.407925   \n",
       "\n",
       "         ct  \n",
       "0  1.475556  \n",
       "1  1.335247  \n",
       "2  1.362730  \n",
       "3  1.782341  \n",
       "4  1.837514  "
      ]
     },
     "execution_count": 5,
     "metadata": {},
     "output_type": "execute_result"
    }
   ],
   "source": [
    "df_train['ct'] = df_train['Y2'] / df_train['X4']  /df_train['X3']\n",
    "df_train.head()"
   ]
  },
  {
   "attachments": {},
   "cell_type": "markdown",
   "id": "1ac82777-b5a0-4ef7-8fc4-043cc2580d11",
   "metadata": {},
   "source": [
    "## 3. 일원배치 분산분석 및 사후분석"
   ]
  },
  {
   "cell_type": "code",
   "execution_count": 6,
   "id": "58efa74d-b9e2-4c04-a715-66d627d970c8",
   "metadata": {},
   "outputs": [],
   "source": [
    "from statsmodels.formula.api import ols\n",
    "from statsmodels.stats.anova import anova_lm"
   ]
  },
  {
   "cell_type": "code",
   "execution_count": 7,
   "id": "bd12e0d7-823f-43fd-ad97-15d31b8e7e61",
   "metadata": {},
   "outputs": [],
   "source": [
    "from statsmodels.sandbox.stats.multicomp import MultiComparison\n",
    "import scipy.stats"
   ]
  },
  {
   "attachments": {},
   "cell_type": "markdown",
   "id": "6a4344a2-9e7e-4d3a-9fba-ce6c76f5d91a",
   "metadata": {
    "tags": []
   },
   "source": [
    "### 1. X8 <-> Y2"
   ]
  },
  {
   "attachments": {},
   "cell_type": "markdown",
   "id": "c241540b-b406-4933-99d6-814ad9cdd7ce",
   "metadata": {},
   "source": [
    "#### 1-1 분산분석"
   ]
  },
  {
   "cell_type": "code",
   "execution_count": 8,
   "id": "1fb5fb14-465f-42ca-905a-dd5347a61047",
   "metadata": {},
   "outputs": [
    {
     "data": {
      "text/html": [
       "<div>\n",
       "<style scoped>\n",
       "    .dataframe tbody tr th:only-of-type {\n",
       "        vertical-align: middle;\n",
       "    }\n",
       "\n",
       "    .dataframe tbody tr th {\n",
       "        vertical-align: top;\n",
       "    }\n",
       "\n",
       "    .dataframe thead th {\n",
       "        text-align: right;\n",
       "    }\n",
       "</style>\n",
       "<table border=\"1\" class=\"dataframe\">\n",
       "  <thead>\n",
       "    <tr style=\"text-align: right;\">\n",
       "      <th></th>\n",
       "      <th>df</th>\n",
       "      <th>sum_sq</th>\n",
       "      <th>mean_sq</th>\n",
       "      <th>F</th>\n",
       "      <th>PR(&gt;F)</th>\n",
       "    </tr>\n",
       "  </thead>\n",
       "  <tbody>\n",
       "    <tr>\n",
       "      <th>C(X8)</th>\n",
       "      <td>28.0</td>\n",
       "      <td>9913.805655</td>\n",
       "      <td>354.064488</td>\n",
       "      <td>150.698868</td>\n",
       "      <td>0.0</td>\n",
       "    </tr>\n",
       "    <tr>\n",
       "      <th>Residual</th>\n",
       "      <td>121725.0</td>\n",
       "      <td>285990.866537</td>\n",
       "      <td>2.349483</td>\n",
       "      <td>NaN</td>\n",
       "      <td>NaN</td>\n",
       "    </tr>\n",
       "  </tbody>\n",
       "</table>\n",
       "</div>"
      ],
      "text/plain": [
       "                df         sum_sq     mean_sq           F  PR(>F)\n",
       "C(X8)         28.0    9913.805655  354.064488  150.698868     0.0\n",
       "Residual  121725.0  285990.866537    2.349483         NaN     NaN"
      ]
     },
     "execution_count": 8,
     "metadata": {},
     "output_type": "execute_result"
    }
   ],
   "source": [
    "model = ols('ct ~ C(X8)', df_train).fit()\n",
    "anova_lm(model)"
   ]
  },
  {
   "attachments": {},
   "cell_type": "markdown",
   "id": "0ca409f6-bf41-4958-b7de-91b6a4f7b670",
   "metadata": {},
   "source": [
    "#### 1-2 사후분석"
   ]
  },
  {
   "cell_type": "code",
   "execution_count": 9,
   "id": "3e6e701d-fd3b-4383-83d0-9af206d9bebd",
   "metadata": {},
   "outputs": [],
   "source": [
    "comp = MultiComparison(df_train['ct'], df_train['X8'])\n",
    "\n",
    "result = comp.allpairtest(scipy.stats.ttest_ind, method='bonf')\n",
    "\n",
    "#투키의 HSD - Tuckey's Honestly Significant Difference = \"진정으로 유의미한 차이\"\n",
    "from statsmodels.stats.multicomp import pairwise_tukeyhsd\n",
    "hsd1_1 = pairwise_tukeyhsd(df_train['ct'], df_train['X8'], alpha=0.05)"
   ]
  },
  {
   "cell_type": "code",
   "execution_count": null,
   "id": "bae9c543-8872-4412-9498-bfd982727ef0",
   "metadata": {},
   "outputs": [],
   "source": [
    "fig = hsd1_1.plot_simultaneous()"
   ]
  },
  {
   "attachments": {},
   "cell_type": "markdown",
   "id": "d8963965-ccba-4558-a1a0-6b52db95b49c",
   "metadata": {},
   "source": [
    "### 2. X8 <-> Y1"
   ]
  },
  {
   "attachments": {},
   "cell_type": "markdown",
   "id": "cddce253-2689-4699-9023-19c2114019f9",
   "metadata": {
    "tags": []
   },
   "source": [
    "#### 2-1 분산분석"
   ]
  },
  {
   "cell_type": "code",
   "execution_count": 11,
   "id": "fc8c6d82-7310-4798-a916-4ba0f401e3f1",
   "metadata": {},
   "outputs": [
    {
     "data": {
      "text/html": [
       "<div>\n",
       "<style scoped>\n",
       "    .dataframe tbody tr th:only-of-type {\n",
       "        vertical-align: middle;\n",
       "    }\n",
       "\n",
       "    .dataframe tbody tr th {\n",
       "        vertical-align: top;\n",
       "    }\n",
       "\n",
       "    .dataframe thead th {\n",
       "        text-align: right;\n",
       "    }\n",
       "</style>\n",
       "<table border=\"1\" class=\"dataframe\">\n",
       "  <thead>\n",
       "    <tr style=\"text-align: right;\">\n",
       "      <th></th>\n",
       "      <th>df</th>\n",
       "      <th>sum_sq</th>\n",
       "      <th>mean_sq</th>\n",
       "      <th>F</th>\n",
       "      <th>PR(&gt;F)</th>\n",
       "    </tr>\n",
       "  </thead>\n",
       "  <tbody>\n",
       "    <tr>\n",
       "      <th>C(X8)</th>\n",
       "      <td>28.0</td>\n",
       "      <td>3.574494e+09</td>\n",
       "      <td>1.276605e+08</td>\n",
       "      <td>12.188839</td>\n",
       "      <td>1.721823e-55</td>\n",
       "    </tr>\n",
       "    <tr>\n",
       "      <th>Residual</th>\n",
       "      <td>121725.0</td>\n",
       "      <td>1.274894e+12</td>\n",
       "      <td>1.047356e+07</td>\n",
       "      <td>NaN</td>\n",
       "      <td>NaN</td>\n",
       "    </tr>\n",
       "  </tbody>\n",
       "</table>\n",
       "</div>"
      ],
      "text/plain": [
       "                df        sum_sq       mean_sq          F        PR(>F)\n",
       "C(X8)         28.0  3.574494e+09  1.276605e+08  12.188839  1.721823e-55\n",
       "Residual  121725.0  1.274894e+12  1.047356e+07        NaN           NaN"
      ]
     },
     "execution_count": 11,
     "metadata": {},
     "output_type": "execute_result"
    }
   ],
   "source": [
    "model = ols('mk ~ C(X8)', df_train).fit()\n",
    "anova_lm(model)"
   ]
  },
  {
   "attachments": {},
   "cell_type": "markdown",
   "id": "5a40009b-bddd-4341-b809-6111278bfa77",
   "metadata": {},
   "source": [
    "#### 2-2 사후분석"
   ]
  },
  {
   "cell_type": "code",
   "execution_count": 12,
   "id": "ddfb6108-aca3-4353-80f3-6bc220674d3d",
   "metadata": {},
   "outputs": [],
   "source": [
    "comp = MultiComparison(df_train['mk'], df_train['X8'])\n",
    "\n",
    "result = comp.allpairtest(scipy.stats.ttest_ind, method='bonf')\n",
    "\n",
    "#투키의 HSD - Tuckey's Honestly Significant Difference = \"진정으로 유의미한 차이\"\n",
    "from statsmodels.stats.multicomp import pairwise_tukeyhsd\n",
    "hsd1_2 = pairwise_tukeyhsd(df_train['mk'], df_train['X8'], alpha=0.05)"
   ]
  },
  {
   "cell_type": "code",
   "execution_count": null,
   "id": "765046e1-88d8-4a00-85ce-506d888b61e6",
   "metadata": {},
   "outputs": [],
   "source": [
    "fig = hsd1_2.plot_simultaneous()"
   ]
  },
  {
   "attachments": {},
   "cell_type": "markdown",
   "id": "b921f966-61b7-43dd-ae48-da3a9d969219",
   "metadata": {},
   "source": [
    "### 3. X5 <-> Y1"
   ]
  },
  {
   "attachments": {},
   "cell_type": "markdown",
   "id": "db306545-4e43-49ac-b575-14e5b0e75038",
   "metadata": {
    "tags": []
   },
   "source": [
    "#### 3-1 분산분석"
   ]
  },
  {
   "cell_type": "code",
   "execution_count": 14,
   "id": "e4a5aed4-8456-4399-8329-f206170e2ea9",
   "metadata": {},
   "outputs": [
    {
     "data": {
      "text/html": [
       "<div>\n",
       "<style scoped>\n",
       "    .dataframe tbody tr th:only-of-type {\n",
       "        vertical-align: middle;\n",
       "    }\n",
       "\n",
       "    .dataframe tbody tr th {\n",
       "        vertical-align: top;\n",
       "    }\n",
       "\n",
       "    .dataframe thead th {\n",
       "        text-align: right;\n",
       "    }\n",
       "</style>\n",
       "<table border=\"1\" class=\"dataframe\">\n",
       "  <thead>\n",
       "    <tr style=\"text-align: right;\">\n",
       "      <th></th>\n",
       "      <th>df</th>\n",
       "      <th>sum_sq</th>\n",
       "      <th>mean_sq</th>\n",
       "      <th>F</th>\n",
       "      <th>PR(&gt;F)</th>\n",
       "    </tr>\n",
       "  </thead>\n",
       "  <tbody>\n",
       "    <tr>\n",
       "      <th>C(X5)</th>\n",
       "      <td>78.0</td>\n",
       "      <td>759.403203</td>\n",
       "      <td>9.735939</td>\n",
       "      <td>4.013686</td>\n",
       "      <td>7.322293e-30</td>\n",
       "    </tr>\n",
       "    <tr>\n",
       "      <th>Residual</th>\n",
       "      <td>121675.0</td>\n",
       "      <td>295145.268988</td>\n",
       "      <td>2.425685</td>\n",
       "      <td>NaN</td>\n",
       "      <td>NaN</td>\n",
       "    </tr>\n",
       "  </tbody>\n",
       "</table>\n",
       "</div>"
      ],
      "text/plain": [
       "                df         sum_sq   mean_sq         F        PR(>F)\n",
       "C(X5)         78.0     759.403203  9.735939  4.013686  7.322293e-30\n",
       "Residual  121675.0  295145.268988  2.425685       NaN           NaN"
      ]
     },
     "execution_count": 14,
     "metadata": {},
     "output_type": "execute_result"
    }
   ],
   "source": [
    "model = ols('ct ~ C(X5)', df_train).fit()\n",
    "anova_lm(model)"
   ]
  },
  {
   "attachments": {},
   "cell_type": "markdown",
   "id": "49bf576f-208d-4b90-a22e-ee43b71d42e3",
   "metadata": {},
   "source": [
    "#### 3-2 사후분석"
   ]
  },
  {
   "cell_type": "code",
   "execution_count": null,
   "id": "cbfa2876-ac8e-4225-ad16-6e05976fb244",
   "metadata": {},
   "outputs": [],
   "source": [
    "comp = MultiComparison(df_train['ct'], df_train['X5'])\n",
    "\n",
    "result = comp.allpairtest(scipy.stats.ttest_ind, method='bonf')\n",
    "\n",
    "#투키의 HSD - Tuckey's Honestly Significant Difference = \"진정으로 유의미한 차이\"\n",
    "from statsmodels.stats.multicomp import pairwise_tukeyhsd\n",
    "hsd2_1 = pairwise_tukeyhsd(df_train['ct'], df_train['X5'], alpha=0.05)"
   ]
  },
  {
   "cell_type": "code",
   "execution_count": 16,
   "id": "fb42a045",
   "metadata": {},
   "outputs": [
    {
     "data": {
      "text/plain": [
       "<statsmodels.sandbox.stats.multicomp.TukeyHSDResults at 0x24381c6eee0>"
      ]
     },
     "execution_count": 16,
     "metadata": {},
     "output_type": "execute_result"
    }
   ],
   "source": [
    "hsd2_1"
   ]
  },
  {
   "cell_type": "code",
   "execution_count": null,
   "id": "40ccdac4-bbcf-4177-addb-052d68415e8b",
   "metadata": {},
   "outputs": [],
   "source": [
    "fig = hsd2_1.plot_simultaneous(figsize=(20, 20))"
   ]
  },
  {
   "attachments": {},
   "cell_type": "markdown",
   "id": "5c001361-f263-43d2-bbf3-c6e8ade09a77",
   "metadata": {},
   "source": [
    "### 4. X5 <-> Y1"
   ]
  },
  {
   "attachments": {},
   "cell_type": "markdown",
   "id": "f4ba9778-b0bf-46d6-9617-832535c84fbb",
   "metadata": {},
   "source": [
    "#### 4-1 분산분석"
   ]
  },
  {
   "cell_type": "code",
   "execution_count": 18,
   "id": "90e8e1c1-026c-4d11-a6f6-e98646108800",
   "metadata": {},
   "outputs": [
    {
     "data": {
      "text/html": [
       "<div>\n",
       "<style scoped>\n",
       "    .dataframe tbody tr th:only-of-type {\n",
       "        vertical-align: middle;\n",
       "    }\n",
       "\n",
       "    .dataframe tbody tr th {\n",
       "        vertical-align: top;\n",
       "    }\n",
       "\n",
       "    .dataframe thead th {\n",
       "        text-align: right;\n",
       "    }\n",
       "</style>\n",
       "<table border=\"1\" class=\"dataframe\">\n",
       "  <thead>\n",
       "    <tr style=\"text-align: right;\">\n",
       "      <th></th>\n",
       "      <th>df</th>\n",
       "      <th>sum_sq</th>\n",
       "      <th>mean_sq</th>\n",
       "      <th>F</th>\n",
       "      <th>PR(&gt;F)</th>\n",
       "    </tr>\n",
       "  </thead>\n",
       "  <tbody>\n",
       "    <tr>\n",
       "      <th>C(X5)</th>\n",
       "      <td>78.0</td>\n",
       "      <td>2.966919e+08</td>\n",
       "      <td>3.803743e+06</td>\n",
       "      <td>0.362096</td>\n",
       "      <td>1.0</td>\n",
       "    </tr>\n",
       "    <tr>\n",
       "      <th>Residual</th>\n",
       "      <td>121675.0</td>\n",
       "      <td>1.278171e+12</td>\n",
       "      <td>1.050480e+07</td>\n",
       "      <td>NaN</td>\n",
       "      <td>NaN</td>\n",
       "    </tr>\n",
       "  </tbody>\n",
       "</table>\n",
       "</div>"
      ],
      "text/plain": [
       "                df        sum_sq       mean_sq         F  PR(>F)\n",
       "C(X5)         78.0  2.966919e+08  3.803743e+06  0.362096     1.0\n",
       "Residual  121675.0  1.278171e+12  1.050480e+07       NaN     NaN"
      ]
     },
     "execution_count": 18,
     "metadata": {},
     "output_type": "execute_result"
    }
   ],
   "source": [
    "model = ols('mk ~ C(X5)', df_train).fit()\n",
    "anova_lm(model)"
   ]
  },
  {
   "cell_type": "code",
   "execution_count": null,
   "id": "4ffcdd6f-1e39-465a-b423-63b202d3cf2e",
   "metadata": {},
   "outputs": [],
   "source": [
    "comp = MultiComparison(df_train['mk'], df_train['X5'])\n",
    "\n",
    "result = comp.allpairtest(scipy.stats.ttest_ind, method='bonf')\n",
    "\n",
    "#투키의 HSD - Tuckey's Honestly Significant Difference = \"진정으로 유의미한 차이\"\n",
    "from statsmodels.stats.multicomp import pairwise_tukeyhsd\n",
    "hsd2_2 = pairwise_tukeyhsd(df_train['mk'], df_train['X5'], alpha=0.05)"
   ]
  },
  {
   "attachments": {},
   "cell_type": "markdown",
   "id": "f8033251-a186-41fd-b6b2-845ecf02acc1",
   "metadata": {},
   "source": [
    "#### 4-2 사후분석"
   ]
  },
  {
   "cell_type": "code",
   "execution_count": null,
   "id": "a86777b3-20ac-45c9-8789-4dfd51e0ad4d",
   "metadata": {},
   "outputs": [],
   "source": [
    "fig = hsd2_2.plot_simultaneous(figsize=(20, 20))"
   ]
  },
  {
   "attachments": {},
   "cell_type": "markdown",
   "id": "abd5458e-c73c-481e-8147-13bff9cb7c68",
   "metadata": {
    "tags": []
   },
   "source": [
    "### 5. X7 <-> Y1"
   ]
  },
  {
   "cell_type": "markdown",
   "id": "0eaf18ca",
   "metadata": {},
   "source": [
    "#### 4-1 분산분석"
   ]
  },
  {
   "cell_type": "code",
   "execution_count": 21,
   "id": "2c757ab4-38ca-440f-9296-bbdb1c3879ec",
   "metadata": {},
   "outputs": [
    {
     "data": {
      "text/html": [
       "<div>\n",
       "<style scoped>\n",
       "    .dataframe tbody tr th:only-of-type {\n",
       "        vertical-align: middle;\n",
       "    }\n",
       "\n",
       "    .dataframe tbody tr th {\n",
       "        vertical-align: top;\n",
       "    }\n",
       "\n",
       "    .dataframe thead th {\n",
       "        text-align: right;\n",
       "    }\n",
       "</style>\n",
       "<table border=\"1\" class=\"dataframe\">\n",
       "  <thead>\n",
       "    <tr style=\"text-align: right;\">\n",
       "      <th></th>\n",
       "      <th>df</th>\n",
       "      <th>sum_sq</th>\n",
       "      <th>mean_sq</th>\n",
       "      <th>F</th>\n",
       "      <th>PR(&gt;F)</th>\n",
       "    </tr>\n",
       "  </thead>\n",
       "  <tbody>\n",
       "    <tr>\n",
       "      <th>C(X7)</th>\n",
       "      <td>11.0</td>\n",
       "      <td>7.636337e+08</td>\n",
       "      <td>6.942125e+07</td>\n",
       "      <td>6.614582</td>\n",
       "      <td>3.668630e-11</td>\n",
       "    </tr>\n",
       "    <tr>\n",
       "      <th>Residual</th>\n",
       "      <td>121742.0</td>\n",
       "      <td>1.277705e+12</td>\n",
       "      <td>1.049518e+07</td>\n",
       "      <td>NaN</td>\n",
       "      <td>NaN</td>\n",
       "    </tr>\n",
       "  </tbody>\n",
       "</table>\n",
       "</div>"
      ],
      "text/plain": [
       "                df        sum_sq       mean_sq         F        PR(>F)\n",
       "C(X7)         11.0  7.636337e+08  6.942125e+07  6.614582  3.668630e-11\n",
       "Residual  121742.0  1.277705e+12  1.049518e+07       NaN           NaN"
      ]
     },
     "execution_count": 21,
     "metadata": {},
     "output_type": "execute_result"
    }
   ],
   "source": [
    "model = ols('mk ~ C(X7)', df_train).fit()\n",
    "anova_lm(model)"
   ]
  },
  {
   "cell_type": "code",
   "execution_count": 22,
   "id": "e2ac4943-df00-4b7a-be6e-54496d9ce12b",
   "metadata": {},
   "outputs": [],
   "source": [
    "comp = MultiComparison(df_train['mk'], df_train['X7'])\n",
    "\n",
    "result = comp.allpairtest(scipy.stats.ttest_ind, method='bonf')\n",
    "\n",
    "#투키의 HSD - Tuckey's Honestly Significant Difference = \"진정으로 유의미한 차이\"\n",
    "from statsmodels.stats.multicomp import pairwise_tukeyhsd\n",
    "hsd2_1 = pairwise_tukeyhsd(df_train['mk'], df_train['X7'], alpha=0.05)"
   ]
  },
  {
   "cell_type": "markdown",
   "id": "6f11d199",
   "metadata": {},
   "source": [
    "#### 4-2 사후분석"
   ]
  },
  {
   "cell_type": "code",
   "execution_count": null,
   "id": "b1d8b523-69ad-47c8-9a37-9c82c39113b9",
   "metadata": {},
   "outputs": [],
   "source": [
    "fig = hsd2_1.plot_simultaneous(figsize=(20, 20))"
   ]
  },
  {
   "attachments": {},
   "cell_type": "markdown",
   "id": "6fac76fb",
   "metadata": {},
   "source": [
    "### 5. X7 <-> Y2"
   ]
  },
  {
   "cell_type": "markdown",
   "id": "bff9085f",
   "metadata": {},
   "source": [
    "#### 4-1 분산분석"
   ]
  },
  {
   "cell_type": "code",
   "execution_count": 25,
   "id": "84782130-c2c8-4054-908e-3a5dec5b20fb",
   "metadata": {},
   "outputs": [
    {
     "data": {
      "text/html": [
       "<div>\n",
       "<style scoped>\n",
       "    .dataframe tbody tr th:only-of-type {\n",
       "        vertical-align: middle;\n",
       "    }\n",
       "\n",
       "    .dataframe tbody tr th {\n",
       "        vertical-align: top;\n",
       "    }\n",
       "\n",
       "    .dataframe thead th {\n",
       "        text-align: right;\n",
       "    }\n",
       "</style>\n",
       "<table border=\"1\" class=\"dataframe\">\n",
       "  <thead>\n",
       "    <tr style=\"text-align: right;\">\n",
       "      <th></th>\n",
       "      <th>df</th>\n",
       "      <th>sum_sq</th>\n",
       "      <th>mean_sq</th>\n",
       "      <th>F</th>\n",
       "      <th>PR(&gt;F)</th>\n",
       "    </tr>\n",
       "  </thead>\n",
       "  <tbody>\n",
       "    <tr>\n",
       "      <th>C(X7)</th>\n",
       "      <td>11.0</td>\n",
       "      <td>7682.516722</td>\n",
       "      <td>698.410611</td>\n",
       "      <td>295.001279</td>\n",
       "      <td>0.0</td>\n",
       "    </tr>\n",
       "    <tr>\n",
       "      <th>Residual</th>\n",
       "      <td>121742.0</td>\n",
       "      <td>288222.155470</td>\n",
       "      <td>2.367483</td>\n",
       "      <td>NaN</td>\n",
       "      <td>NaN</td>\n",
       "    </tr>\n",
       "  </tbody>\n",
       "</table>\n",
       "</div>"
      ],
      "text/plain": [
       "                df         sum_sq     mean_sq           F  PR(>F)\n",
       "C(X7)         11.0    7682.516722  698.410611  295.001279     0.0\n",
       "Residual  121742.0  288222.155470    2.367483         NaN     NaN"
      ]
     },
     "execution_count": 25,
     "metadata": {},
     "output_type": "execute_result"
    }
   ],
   "source": [
    "model = ols('ct ~ C(X7)', df_train).fit()\n",
    "anova_lm(model)"
   ]
  },
  {
   "cell_type": "code",
   "execution_count": 26,
   "id": "52d1ca9a-db7f-417f-b872-f253c683e916",
   "metadata": {},
   "outputs": [],
   "source": [
    "comp = MultiComparison(df_train['ct'], df_train['X7'])\n",
    "\n",
    "result = comp.allpairtest(scipy.stats.ttest_ind, method='bonf')\n",
    "\n",
    "#투키의 HSD - Tuckey's Honestly Significant Difference = \"진정으로 유의미한 차이\"\n",
    "from statsmodels.stats.multicomp import pairwise_tukeyhsd\n",
    "hsd2_1 = pairwise_tukeyhsd(df_train['ct'], df_train['X7'], alpha=0.05)"
   ]
  },
  {
   "cell_type": "markdown",
   "id": "2a23f371",
   "metadata": {},
   "source": [
    "#### 4-2 사후분석"
   ]
  },
  {
   "cell_type": "code",
   "execution_count": null,
   "id": "3a7def63-5cdb-479a-826c-d8d29cb777ed",
   "metadata": {},
   "outputs": [],
   "source": [
    "fig = hsd2_1.plot_simultaneous(figsize=(15, 10))"
   ]
  }
 ],
 "metadata": {
  "kernelspec": {
   "display_name": "Python 3.9.12 ('base')",
   "language": "python",
   "name": "python3"
  },
  "language_info": {
   "codemirror_mode": {
    "name": "ipython",
    "version": 3
   },
   "file_extension": ".py",
   "mimetype": "text/x-python",
   "name": "python",
   "nbconvert_exporter": "python",
   "pygments_lexer": "ipython3",
   "version": "3.9.12"
  },
  "vscode": {
   "interpreter": {
    "hash": "20a9e06a1eee47c4abbed4ec8225ad91d78d9800d202b71b6b0a6e47016c6abd"
   }
  }
 },
 "nbformat": 4,
 "nbformat_minor": 5
}
