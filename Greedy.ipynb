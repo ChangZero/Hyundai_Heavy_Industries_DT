{
 "cells": [
  {
   "attachments": {},
   "cell_type": "markdown",
   "metadata": {},
   "source": [
    "# Greedy Algorithm"
   ]
  },
  {
   "cell_type": "code",
   "execution_count": 1,
   "id": "34b53223-860d-4d49-bb9a-6c89e0c57ad4",
   "metadata": {},
   "outputs": [],
   "source": [
    "import pandas as pd\n",
    "import numpy as np"
   ]
  },
  {
   "cell_type": "code",
   "execution_count": 3,
   "id": "ab66c2db-724c-4c2d-8c20-c63added404f",
   "metadata": {},
   "outputs": [
    {
     "name": "stdout",
     "output_type": "stream",
     "text": [
      "<class 'pandas.core.frame.DataFrame'>\n",
      "RangeIndex: 121754 entries, 0 to 121753\n",
      "Data columns (total 10 columns):\n",
      " #   Column  Non-Null Count   Dtype  \n",
      "---  ------  --------------   -----  \n",
      " 0   X1      121754 non-null  int64  \n",
      " 1   X2      121754 non-null  float64\n",
      " 2   X3      121754 non-null  float64\n",
      " 3   X4      121754 non-null  float64\n",
      " 4   X5      121754 non-null  object \n",
      " 5   X6      121754 non-null  int64  \n",
      " 6   X7      121754 non-null  int64  \n",
      " 7   X8      121754 non-null  object \n",
      " 8   Y1      121754 non-null  int64  \n",
      " 9   Y2      121754 non-null  int64  \n",
      "dtypes: float64(3), int64(5), object(2)\n",
      "memory usage: 9.3+ MB\n"
     ]
    }
   ],
   "source": [
    "df_train = pd.read_csv('data/train_20221121.csv', sep=',', encoding='cp949')\n",
    "df_train.info()"
   ]
  },
  {
   "cell_type": "code",
   "execution_count": 4,
   "id": "daac5e91-61a1-4235-874a-f4ad3efc93c7",
   "metadata": {},
   "outputs": [],
   "source": [
    "workspace = set(df_train['X7'])"
   ]
  },
  {
   "cell_type": "code",
   "execution_count": 5,
   "id": "5a30c7f2-2f10-4f81-980d-c8dd5497bdf0",
   "metadata": {},
   "outputs": [
    {
     "data": {
      "text/plain": [
       "{14, 21, 22, 23, 24, 25, 26, 27, 91, 92, 96, 97}"
      ]
     },
     "execution_count": 5,
     "metadata": {},
     "output_type": "execute_result"
    }
   ],
   "source": [
    "workspace"
   ]
  },
  {
   "cell_type": "code",
   "execution_count": 6,
   "id": "0aec9fa5-70bb-40dd-891a-f6881a3a3c85",
   "metadata": {},
   "outputs": [],
   "source": [
    "cttime = df_train['Y2'].iloc[:100]"
   ]
  },
  {
   "cell_type": "code",
   "execution_count": 7,
   "metadata": {},
   "outputs": [
    {
     "data": {
      "text/plain": [
       "0     2241\n",
       "1     1163\n",
       "2     1094\n",
       "3     2604\n",
       "4     1564\n",
       "      ... \n",
       "95    5303\n",
       "96    2883\n",
       "97    1350\n",
       "98    1386\n",
       "99     950\n",
       "Name: Y2, Length: 100, dtype: int64"
      ]
     },
     "execution_count": 7,
     "metadata": {},
     "output_type": "execute_result"
    }
   ],
   "source": [
    "cttime"
   ]
  },
  {
   "cell_type": "code",
   "execution_count": 76,
   "metadata": {},
   "outputs": [
    {
     "data": {
      "text/plain": [
       "[[0], [0], [0], [0], [0], [0], [0], [0], [0], [0], [0], [0]]"
      ]
     },
     "execution_count": 76,
     "metadata": {},
     "output_type": "execute_result"
    }
   ],
   "source": [
    "work = [[0 for col in range(1)] for row in range(len(workspace))]\n",
    "work"
   ]
  },
  {
   "cell_type": "code",
   "execution_count": 77,
   "metadata": {},
   "outputs": [],
   "source": [
    "timelst = sorted(cttime, reverse=True) # 내림차순 정렬"
   ]
  },
  {
   "cell_type": "code",
   "execution_count": 78,
   "metadata": {},
   "outputs": [],
   "source": [
    "sumlst = []\n",
    "min_idx = 0\n",
    "for item in timelst:\n",
    "    for i in range(len(workspace)):\n",
    "        sumlst.append(sum(work[i]))\n",
    "    min_idx = sumlst.index(min(sumlst))\n",
    "    work[min_idx].append(item)\n",
    "    sumlst = []"
   ]
  },
  {
   "cell_type": "code",
   "execution_count": 79,
   "id": "ff37083f-6255-4197-8b94-7ab5df597287",
   "metadata": {},
   "outputs": [
    {
     "name": "stdout",
     "output_type": "stream",
     "text": [
      "16302\n",
      "16273\n",
      "16664\n",
      "16662\n",
      "16231\n",
      "16309\n",
      "16311\n",
      "16294\n",
      "16311\n",
      "16649\n",
      "16698\n",
      "16297\n",
      "Total:  197001\n",
      "makespan:  16698\n"
     ]
    }
   ],
   "source": [
    "k = 0\n",
    "max_worktime = 0\n",
    "for i in range(len(workspace)):\n",
    "    print(sum(work[i]))\n",
    "    k += sum(work[i])\n",
    "    \n",
    "    if sum(work[i]) > max_worktime:\n",
    "        max_worktime = sum(work[i])\n",
    "    \n",
    "print(\"Total: \", k)\n",
    "print(\"makespan: \", max_worktime)"
   ]
  }
 ],
 "metadata": {
  "kernelspec": {
   "display_name": "Python 3.9.12 ('base')",
   "language": "python",
   "name": "python3"
  },
  "language_info": {
   "codemirror_mode": {
    "name": "ipython",
    "version": 3
   },
   "file_extension": ".py",
   "mimetype": "text/x-python",
   "name": "python",
   "nbconvert_exporter": "python",
   "pygments_lexer": "ipython3",
   "version": "3.9.12"
  },
  "orig_nbformat": 4,
  "vscode": {
   "interpreter": {
    "hash": "20a9e06a1eee47c4abbed4ec8225ad91d78d9800d202b71b6b0a6e47016c6abd"
   }
  }
 },
 "nbformat": 4,
 "nbformat_minor": 2
}
